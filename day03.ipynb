{
 "cells": [
  {
   "cell_type": "code",
   "execution_count": 7,
   "metadata": {},
   "outputs": [
    {
     "name": "stdout",
     "output_type": "stream",
     "text": [
      "<class 'int'>\n",
      "<class 'float'>\n",
      "<class 'str'>\n",
      "<class 'str'>\n"
     ]
    }
   ],
   "source": [
    "x = 10\n",
    "print(type(x)) # type()은 변수의 타입을 확인하기 위해 사용한다.\n",
    "\n",
    "x = 10.9\n",
    "print(type(x))\n",
    "\n",
    "y = '작은따옴표'\n",
    "print(type(y))\n",
    "\n",
    "y = \"큰따옴표\"\n",
    "print(type(y))\n",
    "\n",
    "# 작은따옴표, 큰따옴표 상관없이 모두 str 자료형이다"
   ]
  },
  {
   "cell_type": "code",
   "execution_count": 14,
   "metadata": {},
   "outputs": [
    {
     "name": "stdout",
     "output_type": "stream",
     "text": [
      "한동석\n",
      "10\n",
      "120.77\n",
      "피아노\n"
     ]
    }
   ],
   "source": [
    "name = \"한동석\"\n",
    "age = 10\n",
    "height = 120.77\n",
    "hobby = \"피아노\"\n",
    "\n",
    "# 한줄에 다 쓰려면 ;(세미콜론)을 사용한다.\n",
    "print(name); print(age); print(height); print(hobby);"
   ]
  },
  {
   "cell_type": "markdown",
   "metadata": {},
   "source": [
    "자료형 (type)\n",
    "정수형 int\n",
    "실수형 float\n",
    "문자열 str\n",
    "논리형 bool\n",
    "\n",
    "변수의 선언(메모리 할당)\n",
    "초기화\n",
    "변수명 = 값\n",
    "\n",
    "변수 선언시 RAM\n",
    "x = 0\n",
    "x라는 이름의 저장공간이 RAM에 할당된다.\n",
    "x에 0이라는 초기값이 들어간다.\n",
    "\n",
    "주소 : 저장공간이 RAM에 할당되면 고유한 값인 주소값이 부여된다.\n",
    "\n",
    "변수 선언시 주의사항\n",
    "- 같은 이름으로 선언할 수 있으나 두번째 선언은 기존의 변수의 값을 수정할 때 사용된다.\n",
    "x = 10\n",
    "x = 20\n",
    "print(x)\n",
    "초기화를 반드시 해준다. 되도록 선언부에 한꺼번에 선언한다.(페이지 상단)\n",
    "\n",
    "예)\n",
    "1 x = 10\n",
    "2 y = 20\n",
    "3\n",
    "...\n",
    "4894 \n",
    "18999 print(y)\n",
    "\n",
    "변수명 주의사항\n",
    "문자부터 시작한다\n",
    "예) 2a (X), a2 (O)\n",
    "특수문자는 사용할 수 없다.\n",
    "단 _(언더바)는 사용가능하다\n",
    "공백을 사용할 수 없다\n",
    "good_boy : 팟홀 표기법\n",
    "goodBoy : 카멜 표기법\n",
    "변수 이름은 되도록 소문자를 사용한다. (소문자로 시작하니까 카멜 표기법을 쓸 수 있게 된다)\n",
    "되도록 뜻이 있는 단어를 선택한다.\n",
    "되도록 한글은 사용하지 않는다"
   ]
  }
 ],
 "metadata": {
  "kernelspec": {
   "display_name": "Python 3",
   "language": "python",
   "name": "python3"
  },
  "language_info": {
   "codemirror_mode": {
    "name": "ipython",
    "version": 3
   },
   "file_extension": ".py",
   "mimetype": "text/x-python",
   "name": "python",
   "nbconvert_exporter": "python",
   "pygments_lexer": "ipython3",
   "version": "3.8.5"
  }
 },
 "nbformat": 4,
 "nbformat_minor": 4
}
