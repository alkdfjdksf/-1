{
 "cells": [
  {
   "cell_type": "code",
   "execution_count": 24,
   "metadata": {},
   "outputs": [
    {
     "name": "stdout",
     "output_type": "stream",
     "text": [
      "data : 10\n",
      "100\n",
      "<class 'str'>\n",
      "data1 : 11\n",
      "data1 : 11\n",
      "data2 : 12.4231\n",
      "data3 : A\n",
      "data3 : A\n",
      "dataㅁ : A\n",
      "dataㅁ : B\n",
      "dataㅁ : C\n",
      "3.3333333333333335\n",
      "3\n",
      "3.0\n",
      "1\n"
     ]
    }
   ],
   "source": [
    "data = 10\n",
    "print(\"data : %d\" %data)\n",
    "\n",
    "data2 = \"%d\" %100\n",
    "print(data2)\n",
    "print(type(data2))\n",
    "\n",
    "# 문자열값.format()\n",
    "\n",
    "# 이름뒤에 소괄호가 있다 : 함수\n",
    "data1 = 11\n",
    "data2 = 12.4231\n",
    "data3 = 'A'\n",
    "data4 = \"ABC\"\n",
    "print(\"data1 : {}\".format(data1))\n",
    "print(\"data1 : {}\\ndata2 : {}\".format(data1, data2))\n",
    "print(\"data3 : %s\" %data3)\n",
    "print(\"data3 : %c\" %data3)\n",
    "# print(\"data4 : %c\" %data4) 이건 안됨! \n",
    "\n",
    "# 아스키 코드\n",
    "print(\"dataㅁ : %c\" %65)\n",
    "print(\"dataㅁ : %c\" %66)\n",
    "print(\"dataㅁ : %c\" %67)\n",
    "\n",
    "print(10/3) # 그냥 나눗셈\n",
    "print(10//3) # 몫을 구하는 나눗셈\n",
    "print(10//3.0) # 몫을 구하는 나눗셈, 값을 실수형으로 형변환 (강제 형변환)\n",
    "print(10%3) # 나머지 값을 구하는 나눗셈"
   ]
  }
 ],
 "metadata": {
  "kernelspec": {
   "display_name": "Python 3",
   "language": "python",
   "name": "python3"
  },
  "language_info": {
   "codemirror_mode": {
    "name": "ipython",
    "version": 3
   },
   "file_extension": ".py",
   "mimetype": "text/x-python",
   "name": "python",
   "nbconvert_exporter": "python",
   "pygments_lexer": "ipython3",
   "version": "3.8.5"
  }
 },
 "nbformat": 4,
 "nbformat_minor": 4
}
