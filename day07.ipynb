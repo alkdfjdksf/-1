{
 "cells": [
  {
   "cell_type": "markdown",
   "metadata": {},
   "source": [
    "연산자\n",
    "\n",
    "기능이 있는 특수문자\n",
    "\n",
    "< 연산자의 우선순위 >\n",
    "최우선 연산자\n",
    "단항 연산자\n",
    "산술 연산자\n",
    "쉬프트 연산자\n",
    "관계 연산자\n",
    "논리 연산자\n",
    "삼항 연산자\n",
    "대입 연산자\n",
    "\n",
    "< 결합성 >\n",
    "\n",
    "하나의 수식에 같은 우선순위의 연산자들이\n",
    "여러 개 나올 때 알맞는 방향으로 결합되어 연산되는 성질\n",
    "\n",
    "< 조건식 >\n",
    "\n",
    "결과가 참 또는 거짓 둘 중 하나가 나오는 식\n",
    "\n",
    "파이썬에서의 참과 거짓\n",
    "True : 참 // False : 거짓\n",
    "\n",
    "< 관계 연산자 >\n",
    "\n",
    "같다 : ==\n",
    "다르다 : !=\n",
    "미만, 초과 : > <\n",
    "이하, 이상 : <= >=\n",
    "\n",
    "< 논리 연산자 >\n",
    "and : A and B 두 조건식 모두 참일 때 참\n",
    "or : A or B 둘 중 하나라도 참이면 참\n",
    "\n",
    "< 단항 연산자 >\n",
    "not : not 조건식 조건식이 True면 False, False면 True로 변경"
   ]
  },
  {
   "cell_type": "code",
   "execution_count": 6,
   "metadata": {},
   "outputs": [
    {
     "name": "stdout",
     "output_type": "stream",
     "text": [
      "가격 : 50\n",
      "45\n",
      "정수 1 : 5\n",
      "정수 2 : 5\n",
      "5 + 5 = 10\n",
      "5 - 5 = 0\n",
      "5 * 5 = 25\n",
      "5 // 5 = 1\n",
      "5 % 5 = 0\n"
     ]
    }
   ],
   "source": [
    "# 가격 입력\n",
    "price = int(input(\"가격 : \"))\n",
    "print(\"%d\" %(price * 0.9))\n",
    "\n",
    "# 정수 2개를 입력받고 덧셈, 뺄셈, 곱셈, 나눗셈\n",
    "num1 = int(input(\"정수 1 : \"))\n",
    "num2 = int(input(\"정수 2 : \"))\n",
    "\n",
    "addResult = num1 + num2\n",
    "subResult = num1 - num2\n",
    "mulResult = num1 * num2\n",
    "divResult = num1 // num2\n",
    "modResult = num1 % num2\n",
    "\n",
    "print(\"%d + %d = %d\" %(num1, num2, addResult))\n",
    "print(\"%d - %d = %d\" %(num1, num2, subResult))\n",
    "print(\"%d * %d = %d\" %(num1, num2, mulResult))\n",
    "print(\"%d // %d = %d\" %(num1, num2, divResult))\n",
    "print(\"%d %% %d = %d\" %(num1, num2, modResult))"
   ]
  }
 ],
 "metadata": {
  "kernelspec": {
   "display_name": "Python 3",
   "language": "python",
   "name": "python3"
  },
  "language_info": {
   "codemirror_mode": {
    "name": "ipython",
    "version": 3
   },
   "file_extension": ".py",
   "mimetype": "text/x-python",
   "name": "python",
   "nbconvert_exporter": "python",
   "pygments_lexer": "ipython3",
   "version": "3.8.5"
  }
 },
 "nbformat": 4,
 "nbformat_minor": 4
}
