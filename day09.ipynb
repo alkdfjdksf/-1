{
 "cells": [
  {
   "cell_type": "markdown",
   "metadata": {},
   "source": [
    "쉬프트 연산자\n",
    ">> / A >> B : A를 오른쪽으로 B만큼 비트 이동\n",
    "<< / A << B : A를 왼쪽으로 B만큼 비트 이동\n",
    "\n",
    "비트가 넘어가면 잘리고, 빈 자리는 0으로 채워진다 (음수는 빈 자리가 1로 채워진다)"
   ]
  },
  {
   "cell_type": "code",
   "execution_count": 6,
   "metadata": {},
   "outputs": [
    {
     "name": "stdout",
     "output_type": "stream",
     "text": [
      "0.30000000000000004\n",
      "결과값 : False\n",
      "결과값 : 0.3\n",
      "결과값 : True\n",
      "결과값 : 0.3\n"
     ]
    }
   ],
   "source": [
    "# 실수의 오류\n",
    "print(0.1 + 0.2)\n",
    "print(\"결과값 : {}\".format(0.1 + 0.2 == 0.3))\n",
    "\n",
    "print(\"결과값 : %.1f\" %0.3)\n",
    "\n",
    "# 실수의 오류 해결\n",
    "import math\n",
    "\n",
    "print(\"결과값 : \", end = \"\")\n",
    "print(math.isclose(0.1+0.2, 0.3))\n",
    "\n",
    "# 실수의 오류 해결2\n",
    "from decimal import Decimal\n",
    "print(\"결과값 : {}\".format(float(Decimal('0.1') + Decimal('0.2'))))"
   ]
  }
 ],
 "metadata": {
  "kernelspec": {
   "display_name": "Python 3",
   "language": "python",
   "name": "python3"
  },
  "language_info": {
   "codemirror_mode": {
    "name": "ipython",
    "version": 3
   },
   "file_extension": ".py",
   "mimetype": "text/x-python",
   "name": "python",
   "nbconvert_exporter": "python",
   "pygments_lexer": "ipython3",
   "version": "3.8.5"
  }
 },
 "nbformat": 4,
 "nbformat_minor": 4
}
