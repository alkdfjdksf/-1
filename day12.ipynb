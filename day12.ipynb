{
 "cells": [
  {
   "cell_type": "code",
   "execution_count": 9,
   "metadata": {},
   "outputs": [
    {
     "name": "stdout",
     "output_type": "stream",
     "text": [
      "첫번째 정수 : 1441\n",
      "두번째 정수 : 1441\n",
      "두 수가 같습니다.\n"
     ]
    }
   ],
   "source": [
    "n1Msg = \"첫번째 정수 : \"\n",
    "n2Msg = \"두번째 정수 : \"\n",
    "\n",
    "num1 = int(input(n1Msg))\n",
    "num2 = int(input(n2Msg))\n",
    "\n",
    "if num1 > num2 :\n",
    "    print(\"큰 값 : 첫번째 정수 (\" + str(num1) + \")\")\n",
    "elif num1 < num2 :\n",
    "    print(\"큰 값 : 두번째 정수 (\" + str(num2) + \")\")\n",
    "else :\n",
    "    print(\"두 수가 같습니다.\")"
   ]
  },
  {
   "cell_type": "markdown",
   "metadata": {},
   "source": [
    "변수\n",
    "저장공간의 값의 구분을 정확히 할 줄 알아야 한다\n",
    "data = 10 // 저장공간\n",
    "data + 9 // 값\n",
    "data = data + 9 // 저장공간, 값\n",
    "data - 1 // 값\n",
    "print(data) // 값\n",
    "data = 20 + 9 // 저장공간\n",
    "\n",
    "대입 연산자 ( 복합 대입 연산자, 누적 연산자 )\n",
    "+=, -=, *=, /=, %=, //=,...\n",
    "money = 10000\n",
    "money =  money - 1000 or money -= 1000\n",
    "print(money)"
   ]
  }
 ],
 "metadata": {
  "kernelspec": {
   "display_name": "Python 3",
   "language": "python",
   "name": "python3"
  },
  "language_info": {
   "codemirror_mode": {
    "name": "ipython",
    "version": 3
   },
   "file_extension": ".py",
   "mimetype": "text/x-python",
   "name": "python",
   "nbconvert_exporter": "python",
   "pygments_lexer": "ipython3",
   "version": "3.8.5"
  }
 },
 "nbformat": 4,
 "nbformat_minor": 4
}
