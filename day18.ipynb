{
 "cells": [
  {
   "cell_type": "code",
   "execution_count": 27,
   "metadata": {},
   "outputs": [
    {
     "name": "stdout",
     "output_type": "stream",
     "text": [
      "현재 리스트의 길이 : 4\n",
      "리스트에 들어있는 값들 중 3번째 값 : 5\n",
      "리스트 목록 : [2, 4, 5, 6]\n",
      "\n",
      "리스트 맨 끝에 값 7을 넣는다.\n",
      "리스트 목록 : [2, 4, 5, 6, 7]\n",
      "\n",
      "리스트에서 2번째 칸에 값 17을 새로 넣는다.\n",
      "리스트 목록 : [2, 17, 4, 5, 6, 7]\n",
      "\n",
      "맨 왼쪽부터 검사했을 때 6번 값이 들어있는 위치(인덱스 + 1) : 5\n",
      "\n",
      "리스트에 들어있는 값들 중 맨 오른쪽에서 2번째 값 : 6\n",
      "리스트에 들어있는 값들 중 맨 오른쪽에서 5번째 값 : 17\n",
      "\n",
      "리스트에 들어있는 값들 중 2번째 인덱스부터 4번째 인덱스 까지의 값들 목록[4, 5, 6]\n"
     ]
    }
   ],
   "source": [
    "# List\n",
    "dataList = [2, 4, 5, 6]\n",
    "print(\"현재 리스트의 길이 : \" + str(len(dataList)))\n",
    "print(\"리스트에 들어있는 값들 중 3번째 값 : \" + str(dataList[2]))\n",
    "print(\"리스트 목록 : \" + str(dataList))\n",
    "\n",
    "print(\"\\n리스트 맨 끝에 값 7을 넣는다.\")\n",
    "dataList.append(7)\n",
    "print(\"리스트 목록 : \" + str(dataList))\n",
    "\n",
    "print(\"\\n리스트에서 2번째 칸에 값 17을 새로 넣는다.\")\n",
    "dataList.insert(1, 17)\n",
    "print(\"리스트 목록 : \" + str(dataList))\n",
    "\n",
    "print(\"\\n맨 왼쪽부터 검사했을 때 6번 값이 들어있는 위치(인덱스 + 1) : \" + str(dataList.index(6)+1))\n",
    "\n",
    "print(\"\\n리스트에 들어있는 값들 중 맨 오른쪽에서 2번째 값 : \" + str(dataList[-2]))\n",
    "print(\"리스트에 들어있는 값들 중 맨 오른쪽에서 5번째 값 : \" + str(dataList[-5]))\n",
    "\n",
    "print(\"\\n리스트에 들어있는 값들 중 2번째 인덱스부터 4번째 인덱스 까지의 값들 목록\" + str(dataList[2:5]))"
   ]
  },
  {
   "cell_type": "code",
   "execution_count": 30,
   "metadata": {},
   "outputs": [
    {
     "name": "stdout",
     "output_type": "stream",
     "text": [
      "1 1 1 1 1 1 1 "
     ]
    }
   ],
   "source": [
    "dataList2 = [1] * 7\n",
    "\n",
    "for i in dataList2:\n",
    "    print(i, end = \" \")"
   ]
  },
  {
   "cell_type": "code",
   "execution_count": 31,
   "metadata": {},
   "outputs": [
    {
     "name": "stdout",
     "output_type": "stream",
     "text": [
      "[1, 2, 3, 4, 5]\n"
     ]
    }
   ],
   "source": [
    "dataList3 = [-1, -1, -1, -1, -1]\n",
    "\n",
    "for i in range(len(dataList3)):\n",
    "    dataList3[i] = i+1\n",
    "    \n",
    "print(dataList3)"
   ]
  },
  {
   "cell_type": "code",
   "execution_count": 35,
   "metadata": {},
   "outputs": [
    {
     "name": "stdout",
     "output_type": "stream",
     "text": [
      "[0, 1, 0, 3, 0, 5, 0, 7, 0, 9]\n"
     ]
    }
   ],
   "source": [
    "dataList4 = [0] * 10\n",
    "for i in range(1, len(dataList4), 2):\n",
    "    dataList4[i] = i\n",
    "    \n",
    "print(dataList4)"
   ]
  }
 ],
 "metadata": {
  "kernelspec": {
   "display_name": "Python 3",
   "language": "python",
   "name": "python3"
  },
  "language_info": {
   "codemirror_mode": {
    "name": "ipython",
    "version": 3
   },
   "file_extension": ".py",
   "mimetype": "text/x-python",
   "name": "python",
   "nbconvert_exporter": "python",
   "pygments_lexer": "ipython3",
   "version": "3.8.5"
  }
 },
 "nbformat": 4,
 "nbformat_minor": 4
}
