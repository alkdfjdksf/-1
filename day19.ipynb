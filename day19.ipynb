{
 "cells": [
  {
   "cell_type": "code",
   "execution_count": 13,
   "metadata": {},
   "outputs": [
    {
     "name": "stdout",
     "output_type": "stream",
     "text": [
      "aBcDeFgHiJkLmNoPqRsTuVwXyZ"
     ]
    }
   ],
   "source": [
    "# aBcDeFgH...yZ를 출력해보기\n",
    "\n",
    "for i in range(97, 123, 2):\n",
    "    print(chr(i), end = \"\")\n",
    "    print(chr(i-31), end = \"\")"
   ]
  },
  {
   "cell_type": "code",
   "execution_count": 25,
   "metadata": {},
   "outputs": [
    {
     "name": "stdout",
     "output_type": "stream",
     "text": [
      "['a', 'B', 'c', 'D', 'e', 'F', 'g', 'H', 'i', 'J', 'k', 'L', 'm', 'N', 'o', 'P', 'q', 'R', 's', 'T', 'u', 'V', 'w', 'X', 'y', 'Z']\n"
     ]
    }
   ],
   "source": [
    "# aBcDeFgH...yZ를 배열에 넣고 출력해보기\n",
    "dataList = [\"\"] * 26\n",
    "for i in range(len(dataList)):\n",
    "    if i%2 == 0:\n",
    "        dataList[i] = chr(97 + i)\n",
    "    else:\n",
    "        dataList[i] = chr(65+i)\n",
    "print(dataList)"
   ]
  },
  {
   "cell_type": "code",
   "execution_count": 26,
   "metadata": {},
   "outputs": [
    {
     "name": "stdout",
     "output_type": "stream",
     "text": [
      "['a', 'B', 'c', 'D', 'e', 'F', 'g', 'H', 'i', 'J', 'k', 'L', 'm', 'N', 'o', 'P', 'q', 'R', 's', 'T', 'u', 'V', 'w', 'X', 'y', 'Z']\n"
     ]
    }
   ],
   "source": [
    "# aBcDeFgH...yZ를 배열에 넣고 출력해보기 (2)\n",
    "dataList = [\"\"] * 26\n",
    "for i in range(len(dataList)):\n",
    "    dataList[i] = chr(97 + i if i % 2 == 0 else 65 + i)\n",
    "print(dataList)"
   ]
  },
  {
   "cell_type": "code",
   "execution_count": 14,
   "metadata": {},
   "outputs": [
    {
     "name": "stdout",
     "output_type": "stream",
     "text": [
      "[1, 2, 3, 4, 5, 6, 7, 8, 9, 10, 11, 12, 13, 14, 15, 16, 17, 18, 19, 20, 21, 22, 23, 24, 25, 26, 27, 28, 29, 30, 31, 32, 33, 34, 35, 36, 37, 38, 39, 40, 41, 42, 43, 44, 45, 46, 47, 48, 49, 50, 51, 52, 53, 54, 55, 56, 57, 58, 59, 60, 61, 62, 63, 64, 65, 66, 67, 68, 69, 70, 71, 72, 73, 74, 75, 76, 77, 78, 79, 80, 81, 82, 83, 84, 85, 86, 87, 88, 89, 90, 91, 92, 93, 94, 95, 96, 97, 98, 99, 100]\n"
     ]
    }
   ],
   "source": [
    "# 1 ~ 100까지 값을 넣고 출력해보기\n",
    "dataList = []\n",
    "for i in range(100):\n",
    "    dataList.append(i+1)\n",
    "    \n",
    "print(dataList)"
   ]
  },
  {
   "cell_type": "code",
   "execution_count": 16,
   "metadata": {},
   "outputs": [
    {
     "name": "stdout",
     "output_type": "stream",
     "text": [
      "[2, 4, 6, 8, 10, 12, 14, 16, 18, 20, 22, 24, 26, 28, 30, 32, 34, 36, 38, 40, 42, 44, 46, 48, 50, 52, 54, 56, 58, 60, 62, 64, 66, 68, 70, 72, 74, 76, 78, 80, 82, 84, 86, 88, 90, 92, 94, 96, 98, 100]\n"
     ]
    }
   ],
   "source": [
    "# 1 ~ 100까지 중 짝수만 출력해보기\n",
    "dataList = [0] * 50\n",
    "for i in range(len(dataList)):\n",
    "    dataList[i] = (i+1) * 2\n",
    "    \n",
    "print(dataList)"
   ]
  },
  {
   "cell_type": "code",
   "execution_count": 18,
   "metadata": {},
   "outputs": [
    {
     "name": "stdout",
     "output_type": "stream",
     "text": [
      "['A', 'B', 'C', 'D', 'E', 'F']\n"
     ]
    }
   ],
   "source": [
    "#A~F까지 넣고 출력해보기\n",
    "dataList = []\n",
    "for i in range(0, 6, 1):\n",
    "    dataList.append(chr(i+65))\n",
    "print(dataList)"
   ]
  },
  {
   "cell_type": "code",
   "execution_count": 31,
   "metadata": {},
   "outputs": [
    {
     "name": "stdout",
     "output_type": "stream",
     "text": [
      "AZZ\n"
     ]
    }
   ],
   "source": [
    "#\"ABC\"에서 B를 Z로 변경하기\n",
    "strList = \"ABZ\"\n",
    "strList = strList.replace(\"B\", \"Z\")\n",
    "print(strList)"
   ]
  },
  {
   "cell_type": "code",
   "execution_count": 38,
   "metadata": {},
   "outputs": [
    {
     "name": "stdout",
     "output_type": "stream",
     "text": [
      "자연수 입력1000\n",
      "일공공공\n"
     ]
    }
   ],
   "source": [
    "num = int(input(\"자연수 입력\"))\n",
    "hangle = \"공일이삼사오육칠팔구\"\n",
    "result = \"\"\n",
    "while num != 0:\n",
    "    result = hangle[num % 10] + result\n",
    "    num //= 10\n",
    "print(result)"
   ]
  }
 ],
 "metadata": {
  "kernelspec": {
   "display_name": "Python 3",
   "language": "python",
   "name": "python3"
  },
  "language_info": {
   "codemirror_mode": {
    "name": "ipython",
    "version": 3
   },
   "file_extension": ".py",
   "mimetype": "text/x-python",
   "name": "python",
   "nbconvert_exporter": "python",
   "pygments_lexer": "ipython3",
   "version": "3.8.5"
  }
 },
 "nbformat": 4,
 "nbformat_minor": 4
}
