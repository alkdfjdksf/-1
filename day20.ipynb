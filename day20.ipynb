{
 "cells": [
  {
   "cell_type": "code",
   "execution_count": 2,
   "metadata": {},
   "outputs": [
    {
     "name": "stdout",
     "output_type": "stream",
     "text": [
      "[1, 2, 3, 4]\n"
     ]
    }
   ],
   "source": [
    "#list는 mutable이다.\n",
    "# mutable : 변할 수 있는\n",
    "\n",
    "dataList1 = [1,2,3]\n",
    "dataList2 = dataList1\n",
    "\n",
    "dataList2.append(4)\n",
    "print(dataList1)"
   ]
  },
  {
   "cell_type": "code",
   "execution_count": 7,
   "metadata": {},
   "outputs": [
    {
     "name": "stdout",
     "output_type": "stream",
     "text": [
      "<class 'tuple'>\n",
      "(1, 2, 3)\n",
      "(1, 2, 3, 4, 5)\n"
     ]
    }
   ],
   "source": [
    "# tuple은 immutable이다.\n",
    "# immutable : 변할 수 없는\n",
    "\n",
    "dataTuple1 = (1,2,3) # 괄호 생략 가능\n",
    "print(type(dataTuple1))\n",
    "dataTuple2 = dataTuple1\n",
    "dataTuple2 += (4,5) # 괄호 생략 가능\n",
    "\n",
    "print(dataTuple1)\n",
    "print(dataTuple2)"
   ]
  },
  {
   "cell_type": "code",
   "execution_count": null,
   "metadata": {},
   "outputs": [],
   "source": [
    "# dict\n",
    "# 한쌍으로 저장되어 관리한다\n",
    "# len()을 사용하면 한 쌍을 1로 카운트한다\n",
    "# 키 값은 중복이 될 수 없으며 값은 중복이 가능하다\n",
    "# 키 값을 주면 그 키의 짝꿍 값을 가지고 온다\n",
    "\n",
    "# dict 선언\n",
    "# dict명 = {키 : 값, 키 : 값,...}\n",
    "\n",
    "# dict 사용\n",
    "# - 추가 (키 값이 없을 때)\n",
    "# dict명[키] = 값\n",
    "# - 수정 (키 값이 있을 때)\n",
    "# dict명[키] = 값\n",
    "# - 삭제 (한 쌍이 삭제된다)\n",
    "# del dict명[키]\n",
    "# - 검색\n",
    "# 키 in dict명 : 키 값이 있으면 참\n",
    "# 키 not in dict명 : 키 값이 없으면 참\n",
    "\n",
    "# Key 분리\n",
    "# list(dict명.keys())\n",
    "\n",
    "# Value 분리\n",
    "# dict명.values()"
   ]
  },
  {
   "cell_type": "code",
   "execution_count": 13,
   "metadata": {},
   "outputs": [
    {
     "name": "stdout",
     "output_type": "stream",
     "text": [
      "2\n",
      "1500\n",
      "{'자장면': 4000, '짬뽕': 2500}\n",
      "{'자장면': 4000, '짬뽕': 2500, '탕수육': 9000}\n",
      "자장면\n",
      "짬뽕\n",
      "탕수육\n",
      "1. 자장면\n",
      "2. 짬뽕\n",
      "3. 탕수육\n",
      "평균가격 : 5166.67원\n"
     ]
    }
   ],
   "source": [
    "# dict 테스트\n",
    "중국집 = {\"자장면\" : 1500, \"짬뽕\" : 2500}\n",
    "print(len(중국집))\n",
    "print(중국집[\"자장면\"])\n",
    "\n",
    "if \"자장면\" in 중국집:\n",
    "    중국집[\"자장면\"] = 4000\n",
    "print(중국집)\n",
    "\n",
    "if \"탕수육\" not in 중국집:\n",
    "    중국집[\"탕수육\"] = 9000\n",
    "print(중국집)\n",
    "\n",
    "for i in 중국집.keys():\n",
    "    print(i)\n",
    "    \n",
    "for i in range(len(중국집)):\n",
    "    print(str(i+1) + \". \" + list(중국집.keys())[i])\n",
    "    \n",
    "total = 0\n",
    "for i in 중국집.values():\n",
    "    total += i\n",
    "avg = total / len(중국집)\n",
    "\n",
    "print(\"평균가격 : %.2f원\" %avg)"
   ]
  },
  {
   "cell_type": "code",
   "execution_count": 26,
   "metadata": {},
   "outputs": [
    {
     "name": "stdout",
     "output_type": "stream",
     "text": [
      "등급 : 5\n",
      "F학점입니다.\n",
      "넌 소중해\n"
     ]
    }
   ],
   "source": [
    "# 등급을 입력받아서 학점을 출력해주는 프로그램\n",
    "# 2입력시 B학점입니다. 출력\n",
    "# 1~5등급, A B C D F학점\n",
    "\n",
    "scoreDict = {}\n",
    "for i in range(5):\n",
    "    scoreDict[i+1] = chr(i+66) if i == 4 else chr(i+65)\n",
    "    \n",
    "while True :\n",
    "    rating = int(input(\"등급 : \"))\n",
    "    if rating >= 1 and rating <= 5:\n",
    "        print(scoreDict[rating] + \"학점입니다.\")\n",
    "        if rating == 5: print(\"넌 소중해\")\n",
    "        break"
   ]
  }
 ],
 "metadata": {
  "kernelspec": {
   "display_name": "Python 3",
   "language": "python",
   "name": "python3"
  },
  "language_info": {
   "codemirror_mode": {
    "name": "ipython",
    "version": 3
   },
   "file_extension": ".py",
   "mimetype": "text/x-python",
   "name": "python",
   "nbconvert_exporter": "python",
   "pygments_lexer": "ipython3",
   "version": "3.8.5"
  }
 },
 "nbformat": 4,
 "nbformat_minor": 4
}
