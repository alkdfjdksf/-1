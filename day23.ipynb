{
 "cells": [
  {
   "cell_type": "code",
   "execution_count": 1,
   "metadata": {},
   "outputs": [
    {
     "name": "stdout",
     "output_type": "stream",
     "text": [
      "16\n"
     ]
    }
   ],
   "source": [
    "#method test\n",
    "#f(x) = 2x+1\n",
    "\n",
    "def f(x):\n",
    "    return 2*x + 1\n",
    "\n",
    "print(f(3) + 9)"
   ]
  },
  {
   "cell_type": "code",
   "execution_count": 2,
   "metadata": {},
   "outputs": [
    {
     "name": "stdout",
     "output_type": "stream",
     "text": [
      "6\n"
     ]
    }
   ],
   "source": [
    "def add(num1, num2):\n",
    "    print((num1+num2))\n",
    "    \n",
    "add(1,5)"
   ]
  },
  {
   "cell_type": "code",
   "execution_count": 7,
   "metadata": {},
   "outputs": [
    {
     "name": "stdout",
     "output_type": "stream",
     "text": [
      "1 2 3 4 5 6 7 8 9 10 11 12 13 14 15 16 17 18 19 20 21 22 23 24 25 26 27 28 29 30 31 32 33 34 35 36 37 38 39 40 41 42 43 44 45 46 47 48 49 50 51 52 53 54 55 56 57 58 59 60 61 62 63 64 65 66 67 68 69 70 71 72 73 74 75 76 77 78 79 80 81 82 83 84 85 86 87 88 89 90 91 92 93 94 95 96 97 98 99 100 "
     ]
    }
   ],
   "source": [
    "#1~100까지 print()로 출력하는 메소드\n",
    "def printFromTo100():\n",
    "    for i in range(1, 101, 1):\n",
    "        print(i, end = \" \")\n",
    "        \n",
    "printFromTo100()"
   ]
  },
  {
   "cell_type": "code",
   "execution_count": 11,
   "metadata": {
    "scrolled": true
   },
   "outputs": [
    {
     "name": "stdout",
     "output_type": "stream",
     "text": [
      "자연수 : 14243\n",
      "-14243\n"
     ]
    }
   ],
   "source": [
    "# 자연수를 음수로 바꿔주는 메소드\n",
    "\n",
    "def changeToNegative(num):\n",
    "    if num > 0:\n",
    "        result = num * -1\n",
    "    else:\n",
    "        result = False\n",
    "    return result\n",
    "\n",
    "result = changeToNegative(int(input(\"자연수 : \")))\n",
    "\n",
    "if not result:\n",
    "    print(\"자연수만 가능합니다.\")\n",
    "else:\n",
    "    print(result)"
   ]
  },
  {
   "cell_type": "code",
   "execution_count": 16,
   "metadata": {},
   "outputs": [
    {
     "name": "stdout",
     "output_type": "stream",
     "text": [
      "21\n"
     ]
    }
   ],
   "source": [
    "#1~n까지의 함을 print()로 출력하는 메소드\n",
    "def printSumFrom1(end):\n",
    "    result = 0\n",
    "    for i in range(1, end+1, 1):\n",
    "        result += i\n",
    "    print(result)\n",
    "    \n",
    "printSumFrom1(6)"
   ]
  },
  {
   "cell_type": "code",
   "execution_count": 28,
   "metadata": {},
   "outputs": [
    {
     "name": "stdout",
     "output_type": "stream",
     "text": [
      "정수 : 0\n",
      "1 짝수에서 홀수로 변경되었습니다.\n"
     ]
    }
   ],
   "source": [
    "#홀수를 짝수로 짝수를 홀수로 바꿔주는 메소드\n",
    "def change(num):\n",
    "    if num > -1:\n",
    "        num += 1\n",
    "    else:\n",
    "        num = False\n",
    "    return num\n",
    "\n",
    "result = change(int(input(\"정수 : \")))\n",
    "\n",
    "msg = \"\"\n",
    "if not result:\n",
    "    msg = \"음수는 불가능합니다.\"\n",
    "else:\n",
    "    print(result, end = \" \")\n",
    "    if result % 2 == 0:\n",
    "        msg = \"홀수에서 짝수로 변경되었습니다.\"\n",
    "    else:\n",
    "        msg = \"짝수에서 홀수로 변경되었습니다.\"\n",
    "print(msg)"
   ]
  },
  {
   "cell_type": "code",
   "execution_count": 29,
   "metadata": {},
   "outputs": [
    {
     "name": "stdout",
     "output_type": "stream",
     "text": [
      "[1, 2, 3, 7, 9]\n"
     ]
    }
   ],
   "source": [
    "#5개의 정수를 오름차순으로 정렬해주는 메소드\n",
    "def sortASC(numList):\n",
    "    for i in range(len(numList) - 1):\n",
    "        for j in range(i+1, len(numList)):\n",
    "            if numList[i] > numList[j]:\n",
    "                temp = numList[i]\n",
    "                numList[i] = numList[j]\n",
    "                numList[j] = temp\n",
    "                \n",
    "numList = [9, 7, 3, 1, 2]\n",
    "sortASC(numList)\n",
    "print(numList)"
   ]
  }
 ],
 "metadata": {
  "kernelspec": {
   "display_name": "Python 3",
   "language": "python",
   "name": "python3"
  },
  "language_info": {
   "codemirror_mode": {
    "name": "ipython",
    "version": 3
   },
   "file_extension": ".py",
   "mimetype": "text/x-python",
   "name": "python",
   "nbconvert_exporter": "python",
   "pygments_lexer": "ipython3",
   "version": "3.8.5"
  }
 },
 "nbformat": 4,
 "nbformat_minor": 4
}
