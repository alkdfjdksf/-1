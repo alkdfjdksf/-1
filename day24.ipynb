{
 "cells": [
  {
   "cell_type": "code",
   "execution_count": 4,
   "metadata": {},
   "outputs": [
    {
     "name": "stdout",
     "output_type": "stream",
     "text": [
      "최대값 : 23232\n",
      "최소값 : -1230\n"
     ]
    }
   ],
   "source": [
    "# 5개의 정수 중 최대값과 최소값을 구해주는 메소드\n",
    "def getMaxAndMin(dataList):\n",
    "    max = dataList[0]\n",
    "    min = dataList[0]\n",
    "    resultList = []\n",
    "    \n",
    "    for i in range(1, len(dataList)):\n",
    "        if max < dataList[i]:\n",
    "            max = dataList[i]\n",
    "        if min > dataList[i]:\n",
    "            min = dataList[i]\n",
    "    resultList.append(max)\n",
    "    resultList.append(min)\n",
    "    return resultList\n",
    "\n",
    "dataList = [3, 5, 7, 8, -1230, 23232]\n",
    "result = getMaxAndMin(dataList)\n",
    "print(\"최대값 : \" + str(result[0]))\n",
    "print(\"최소값 : \" + str(result[1]))"
   ]
  },
  {
   "cell_type": "code",
   "execution_count": 5,
   "metadata": {},
   "outputs": [
    {
     "name": "stdout",
     "output_type": "stream",
     "text": [
      "12198DS0F9D8ADF\n"
     ]
    }
   ],
   "source": [
    "# 소문자를 대문자로 바꿔주는 메소드\n",
    "def changeToUpper(string):\n",
    "    result = \"\"\n",
    "    for i in string:\n",
    "        if ord(i) >= 97 and ord(i) <= 122:\n",
    "            result += chr(ord(i) - 32)\n",
    "        else:\n",
    "            result += i\n",
    "    return result\n",
    "\n",
    "print(changeToUpper(\"12198ds0f9d8Adf\"))"
   ]
  },
  {
   "cell_type": "code",
   "execution_count": 11,
   "metadata": {},
   "outputs": [
    {
     "name": "stdout",
     "output_type": "stream",
     "text": [
      "1024\n",
      "1048\n"
     ]
    }
   ],
   "source": [
    "# 한글을 정수로 바꿔주는 메소드(일공이사 -> 1024)\n",
    "def changeToInteger(hangle):\n",
    "    hangle_org = \"공일이삼사오육칠팔구\"\n",
    "    result = \"\"\n",
    "    for i in hangle:\n",
    "        result += str(hangle_org.index(i))\n",
    "    return int(result)\n",
    "\n",
    "print(changeToInteger(\"일공이사\"))\n",
    "print(changeToInteger(\"일공이사\") + 24)"
   ]
  },
  {
   "cell_type": "code",
   "execution_count": 17,
   "metadata": {},
   "outputs": [
    {
     "name": "stdout",
     "output_type": "stream",
     "text": [
      "10\n",
      "240\n"
     ]
    }
   ],
   "source": [
    "# 전역변수\n",
    "result = 0\n",
    "\n",
    "#(num1 = 0, num2) 같은 형태는 안됨!\n",
    "def add(num1, num2 = 0):\n",
    "    global result\n",
    "    result = num1 + num2\n",
    "    # return num1 + num2\n",
    "\n",
    "def sub(num1, num2):\n",
    "    global result\n",
    "    result = num1 - num2\n",
    "\n",
    "add(10)\n",
    "print(result)\n",
    "sub(243, 3)\n",
    "print(result)"
   ]
  },
  {
   "cell_type": "code",
   "execution_count": null,
   "metadata": {},
   "outputs": [],
   "source": [
    "\"\"\"\n",
    "                              전역변수             지역변수\n",
    "함수 안에서 읽기              가능                 가능\n",
    "함수 안에서 수정              불가                 가능\n",
    "\n",
    "함수 밖에서 읽기              가능                 선언된 지역에서만 가능\n",
    "함수 밖에서 수정              가능                 불가능\n",
    "\"\"\""
   ]
  }
 ],
 "metadata": {
  "kernelspec": {
   "display_name": "Python 3",
   "language": "python",
   "name": "python3"
  },
  "language_info": {
   "codemirror_mode": {
    "name": "ipython",
    "version": 3
   },
   "file_extension": ".py",
   "mimetype": "text/x-python",
   "name": "python",
   "nbconvert_exporter": "python",
   "pygments_lexer": "ipython3",
   "version": "3.8.5"
  }
 },
 "nbformat": 4,
 "nbformat_minor": 4
}
