{
 "cells": [
  {
   "cell_type": "code",
   "execution_count": 2,
   "metadata": {},
   "outputs": [
    {
     "name": "stdout",
     "output_type": "stream",
     "text": [
      "<__main__.A object at 0x0000017C8CD129A0>\n",
      "20\n",
      "<__main__.A object at 0x0000017C8CD12EB0>\n",
      "10\n",
      "난 A클래스이다.\n"
     ]
    }
   ],
   "source": [
    "# (1) class test\n",
    "class A:\n",
    "    data = 10\n",
    "    \n",
    "    # self가 있다는건 객체로 접근하겠다는 것\n",
    "    def printData(self):\n",
    "        print(self)\n",
    "        print(self.data)\n",
    "    \n",
    "    # self가 없다는건 클래스로 접근하겠다는 것\n",
    "    def intro():\n",
    "        print(\"난 A클래스이다.\")\n",
    "    \n",
    "obj1 = A()\n",
    "obj2 = A()\n",
    "\n",
    "obj1.data = 20\n",
    "obj1.printData()\n",
    "obj2.printData()\n",
    "\n",
    "A.intro()"
   ]
  },
  {
   "cell_type": "code",
   "execution_count": 10,
   "metadata": {},
   "outputs": [
    {
     "name": "stdout",
     "output_type": "stream",
     "text": [
      "Benz시동 킴\n",
      "BMW시동 끔\n"
     ]
    }
   ],
   "source": [
    "class Car:\n",
    "    # 여러 메소드에서 공유할 변수 선언\n",
    "    brand = \"\"\n",
    "    color = \"\"\n",
    "    price = 0\n",
    "    \n",
    "    # 생성자는 외부에서 전달받은 값으로\n",
    "    # 해당 필드의 객체에 알맞게 초기화하는 목적이 있다.\n",
    "    def __init__(self, brand = \"\", color = \"\", price = 0):\n",
    "        # 초기화 목적\n",
    "        # 해당 필드의 객체에 전달받은 값들을 각각 초기화한다.\n",
    "        self.brand = brand\n",
    "        self.color = color\n",
    "        self.price = price\n",
    "    \n",
    "    def engineStart(self):\n",
    "        print(self.brand + \"시동 킴\")\n",
    "        \n",
    "    def engineStop(self):\n",
    "        print(self.brand + \"시동 끔\")\n",
    "        \n",
    "momCar = Car(\"Benz\", \"Yellow\", 35000)\n",
    "daddyCar = Car(\"BMW\", \"BLUE\", 15000)\n",
    "myCar = Car()\n",
    "\n",
    "momCar.engineStart()\n",
    "daddyCar.engineStop()"
   ]
  }
 ],
 "metadata": {
  "kernelspec": {
   "display_name": "Python 3",
   "language": "python",
   "name": "python3"
  },
  "language_info": {
   "codemirror_mode": {
    "name": "ipython",
    "version": 3
   },
   "file_extension": ".py",
   "mimetype": "text/x-python",
   "name": "python",
   "nbconvert_exporter": "python",
   "pygments_lexer": "ipython3",
   "version": "3.8.5"
  }
 },
 "nbformat": 4,
 "nbformat_minor": 4
}
