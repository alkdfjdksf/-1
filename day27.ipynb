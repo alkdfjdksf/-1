{
 "cells": [
  {
   "cell_type": "code",
   "execution_count": 11,
   "metadata": {},
   "outputs": [
    {
     "data": {
      "text/plain": [
       "'\\n상속\\n1. 기존에 사용중인 클래스의 필드 중\\n새롭게 만들 클래스에서 필요한 것들이 있다면\\n상속을 받아서 그대로 사용한다\\n\\n2. 여러 클래스를 선언할 때 중복되는 기능들이 존재한다면\\n공통 기능들을 담아놓을 클래스를 선언한다.\\n\\n부모 클래스, 상위 클래스, 슈퍼 클래스, 기반 클래스 : 필드를 전달하는 쪽\\n자식 클래스, 하위 클래스, 서브 클래스, 파생 클래스 : 필드를 전달받는 쪽\\n\\n상속 문법\\n\\nclass A:\\nA필드\\nclass B(A,C,D):\\nA,B필드\\n다중 상속\\n부모 클래스가 한 개가 아닌 여러개다. 이러한 기법을 다중 상속이라고 한다.\\n\\n모호성\\n여러 부모의 필드 중 같은 이름의 필드를 자식 클래스에서 사용한다면,\\n어느 부모의 필드인지 알 수가 없기 때문에 이러한 성질을 모호성이라고 한다.\\n\\n생성자\\n부모 클래스에 생성자가 선언되어 있고\\n자식 클래스에는 기본 생성자가 있다면 부모 클래스 생성자를\\n자동으로 호출해준다. 하지만 자식 클래스에서 생성자를 직접 선언하면\\n부모 생성자를 자식 생성자에서 직접 호출해주어야 한다.\\n\\n자식 클래스에 생성자가 있을 때\\n부모에 있는 필드와 자식에서 필요한 필드가 있을 때\\n부모 생성자를 호출하여 부모 필드를 초기화해주고\\n추가된 자식 필드를 추가로 초기화 해주어야 할 때\\n\\n자식 클래스에 생성자가 없을 때(기본 생성자만 있을 때)\\n부모의 필드 외에 추가적인 필드가 없을 떄, 부모 생성자를\\n그대로 사용한다\\n\\n다형성(polymorphism)\\n재정의 : 부모 필드에서 수정하고 싶은 메소드는 자식 필드에서 같은 이름으로 재선언 할 수 있다.\\n'"
      ]
     },
     "execution_count": 11,
     "metadata": {},
     "output_type": "execute_result"
    }
   ],
   "source": [
    "\"\"\"\n",
    "상속\n",
    "1. 기존에 사용중인 클래스의 필드 중\n",
    "새롭게 만들 클래스에서 필요한 것들이 있다면\n",
    "상속을 받아서 그대로 사용한다\n",
    "\n",
    "2. 여러 클래스를 선언할 때 중복되는 기능들이 존재한다면\n",
    "공통 기능들을 담아놓을 클래스를 선언한다.\n",
    "\n",
    "부모 클래스, 상위 클래스, 슈퍼 클래스, 기반 클래스 : 필드를 전달하는 쪽\n",
    "자식 클래스, 하위 클래스, 서브 클래스, 파생 클래스 : 필드를 전달받는 쪽\n",
    "\n",
    "상속 문법\n",
    "\n",
    "class A:\n",
    "A필드\n",
    "class B(A,C,D):\n",
    "A,B필드\n",
    "다중 상속\n",
    "부모 클래스가 한 개가 아닌 여러개다. 이러한 기법을 다중 상속이라고 한다.\n",
    "\n",
    "모호성\n",
    "여러 부모의 필드 중 같은 이름의 필드를 자식 클래스에서 사용한다면,\n",
    "어느 부모의 필드인지 알 수가 없기 때문에 이러한 성질을 모호성이라고 한다.\n",
    "\n",
    "생성자\n",
    "부모 클래스에 생성자가 선언되어 있고\n",
    "자식 클래스에는 기본 생성자가 있다면 부모 클래스 생성자를\n",
    "자동으로 호출해준다. 하지만 자식 클래스에서 생성자를 직접 선언하면\n",
    "부모 생성자를 자식 생성자에서 직접 호출해주어야 한다.\n",
    "\n",
    "자식 클래스에 생성자가 있을 때\n",
    "부모에 있는 필드와 자식에서 필요한 필드가 있을 때\n",
    "부모 생성자를 호출하여 부모 필드를 초기화해주고\n",
    "추가된 자식 필드를 추가로 초기화 해주어야 할 때\n",
    "\n",
    "자식 클래스에 생성자가 없을 때(기본 생성자만 있을 때)\n",
    "부모의 필드 외에 추가적인 필드가 없을 떄, 부모 생성자를\n",
    "그대로 사용한다\n",
    "\n",
    "다형성(polymorphism)\n",
    "재정의 : 부모 필드에서 수정하고 싶은 메소드는 자식 필드에서 같은 이름으로 재선언 할 수 있다.\n",
    "\n",
    "항상 부모 생성자가 먼저 호출되어 부모 필드가 메모리에 할당된다.\n",
    "먼저 할당된 부모 필드에 a라는 메소드가 있다면, 나중에 할당되는\n",
    "자식 필드의 a메소드의 기능(소스코드의 주소값)으로 덮어씌워진다.\n",
    "\"\"\""
   ]
  },
  {
   "cell_type": "code",
   "execution_count": 3,
   "metadata": {},
   "outputs": [
    {
     "name": "stdout",
     "output_type": "stream",
     "text": [
      "10\n",
      "부모 메소드\n"
     ]
    }
   ],
   "source": [
    "class A:\n",
    "    def __init__(self, data = 10):\n",
    "        self.data = data\n",
    "        \n",
    "    def printData(self):\n",
    "        print(self.data)\n",
    "        \n",
    "    def show(self):\n",
    "        print(\"부모 메소드\")\n",
    "        \n",
    "class B(A):\n",
    "    pass\n",
    "\n",
    "b = B()\n",
    "b.printData()\n",
    "b.show()"
   ]
  },
  {
   "cell_type": "code",
   "execution_count": 10,
   "metadata": {},
   "outputs": [
    {
     "name": "stdout",
     "output_type": "stream",
     "text": [
      "30\n",
      "30 20\n"
     ]
    }
   ],
   "source": [
    "class A:\n",
    "    def __init__(self, data = 10):\n",
    "        self.data = data\n",
    "        \n",
    "    def printData(self):\n",
    "        print(self.data)\n",
    "        \n",
    "    def show(self):\n",
    "        print(\"부모 메소드\")\n",
    "        \n",
    "class B(A):\n",
    "    def __init__(self, data, data2):\n",
    "        A.__init__(self, data) # 이렇게 써도 된다. -> super().__init__(data)\n",
    "        self.data2 = data2\n",
    "        \n",
    "    def printData2(self):\n",
    "        print(self.data, self.data2)\n",
    "        \n",
    "b = B(30, 20)\n",
    "b.printData()\n",
    "b.printData2()"
   ]
  }
 ],
 "metadata": {
  "kernelspec": {
   "display_name": "Python 3",
   "language": "python",
   "name": "python3"
  },
  "language_info": {
   "codemirror_mode": {
    "name": "ipython",
    "version": 3
   },
   "file_extension": ".py",
   "mimetype": "text/x-python",
   "name": "python",
   "nbconvert_exporter": "python",
   "pygments_lexer": "ipython3",
   "version": "3.8.5"
  }
 },
 "nbformat": 4,
 "nbformat_minor": 4
}
