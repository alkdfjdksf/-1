{
 "cells": [
  {
   "cell_type": "code",
   "execution_count": 3,
   "metadata": {},
   "outputs": [
    {
     "name": "stdout",
     "output_type": "stream",
     "text": [
      "ferrari음성으로 시동 킴\n",
      "ferrari열쇠로 시동 끔\n",
      "지붕 열림\n",
      "지붕 닫힘\n"
     ]
    }
   ],
   "source": [
    "class Car:\n",
    "    def __init__(self, brand, color, price):\n",
    "        self.brand = brand\n",
    "        self.color = color\n",
    "        self.price = price\n",
    "        \n",
    "    def engineStart(self):\n",
    "        print(self.brand + \"열쇠로 시동 킴\")\n",
    "    def engineStop(self):\n",
    "        print(self.brand + \"열쇠로 시동 끔\")\n",
    "        \n",
    "class SuperCar(Car):\n",
    "    def __init__(self, brand, color, price, mode):\n",
    "        super().__init__(brand, color, price)\n",
    "        self.mode = mode\n",
    "        \n",
    "    #Overriding\n",
    "    def engineStart(self):\n",
    "        print(self.brand + \"음성으로 시동 킴\")\n",
    "\n",
    "    def openRoof(self):\n",
    "        print(\"지붕 열림\")\n",
    "        \n",
    "    def closeRoof(self):\n",
    "        print(\"지붕 닫힘\")\n",
    "        \n",
    "ferrari = SuperCar(\"ferrari\", \"red\", 35000, \"daily\")\n",
    "\n",
    "ferrari.engineStart()\n",
    "ferrari.engineStop()\n",
    "ferrari.openRoof()\n",
    "ferrari.closeRoof()"
   ]
  },
  {
   "cell_type": "code",
   "execution_count": 10,
   "metadata": {},
   "outputs": [
    {
     "name": "stdout",
     "output_type": "stream",
     "text": [
      "1\n",
      "10\n",
      "2\n",
      "4\n"
     ]
    }
   ],
   "source": [
    "class A:\n",
    "    seq = 0\n",
    "    \n",
    "    def __init__(self):\n",
    "        A.seq += 1\n",
    "        self.num = A.seq\n",
    "        \n",
    "    def test(self):\n",
    "        self.seq = 10\n",
    "        \n",
    "obj1 = A()\n",
    "obj2 = A()\n",
    "obj3 = A()\n",
    "obj4 = A()\n",
    "\n",
    "obj1.test()\n",
    "print(obj1.num)\n",
    "print(obj1.seq)\n",
    "print(obj2.num)\n",
    "print(obj2.seq)"
   ]
  },
  {
   "cell_type": "code",
   "execution_count": 11,
   "metadata": {},
   "outputs": [],
   "source": [
    "# 예외처리\n",
    "# 에러 : 심각한 오류 / 예외 : 덜 심각한 오류\n",
    "\n",
    "# try :\n",
    "# 오류가 발생할 수 있는 문장\n",
    "# except 오류 이름 as 객체:    // alias : 별칭\n",
    "# 오류 발생 시 실행할 문장\n",
    "\n",
    "# 모든 예외 클래스의 부모 클래스는 Exception이다\n",
    "# 어떤 오류든지 상관없이 except로 처리할 때에는\n",
    "# \"오류 이름\"자리에 예외의 최상위 부모인 Exception을 작성한다."
   ]
  },
  {
   "cell_type": "code",
   "execution_count": 14,
   "metadata": {},
   "outputs": [
    {
     "name": "stdout",
     "output_type": "stream",
     "text": [
      "정수 입력 : ㄴㅇㄴㅇ\n",
      "정수만 입력하세요\n",
      "반드시 실행되어야 할 문장\n"
     ]
    }
   ],
   "source": [
    "try:\n",
    "    int(input(\"정수 입력 : \"))\n",
    "except Exception as e:\n",
    "    print(\"정수만 입력하세요\")\n",
    "\n",
    "print(\"반드시 실행되어야 할 문장\")"
   ]
  },
  {
   "cell_type": "code",
   "execution_count": 19,
   "metadata": {},
   "outputs": [
    {
     "name": "stdout",
     "output_type": "stream",
     "text": [
      "<method-wrapper '__str__' of ZeroDivisionError object at 0x000001D90DEEE180>\n",
      "0으로 나눌수는 없습니다.\n"
     ]
    }
   ],
   "source": [
    "try:\n",
    "    print(10 / 0)\n",
    "except ZeroDivisionError as e:\n",
    "    print(e.__str__)\n",
    "    print(\"0으로 나눌수는 없습니다.\")"
   ]
  },
  {
   "cell_type": "code",
   "execution_count": 18,
   "metadata": {},
   "outputs": [
    {
     "name": "stdout",
     "output_type": "stream",
     "text": [
      "<method-wrapper '__str__' of ZeroDivisionError object at 0x000001D90DE0A270>\n",
      "0으로 나눌수는 없습니다.\n"
     ]
    }
   ],
   "source": [
    "try:\n",
    "    print(10 / 0)\n",
    "except Exception as e:\n",
    "    print(e.__str__)\n",
    "    print(\"0으로 나눌수는 없습니다.\")"
   ]
  }
 ],
 "metadata": {
  "kernelspec": {
   "display_name": "Python 3",
   "language": "python",
   "name": "python3"
  },
  "language_info": {
   "codemirror_mode": {
    "name": "ipython",
    "version": 3
   },
   "file_extension": ".py",
   "mimetype": "text/x-python",
   "name": "python",
   "nbconvert_exporter": "python",
   "pygments_lexer": "ipython3",
   "version": "3.8.5"
  }
 },
 "nbformat": 4,
 "nbformat_minor": 4
}
