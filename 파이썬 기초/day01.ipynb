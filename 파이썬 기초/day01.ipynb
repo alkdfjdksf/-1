{
 "cells": [
  {
   "cell_type": "code",
   "execution_count": 13,
   "metadata": {
    "scrolled": true
   },
   "outputs": [
    {
     "name": "stdout",
     "output_type": "stream",
     "text": [
      "Hello World!\n"
     ]
    }
   ],
   "source": [
    "print(\"Hello World!\");"
   ]
  },
  {
   "cell_type": "markdown",
   "metadata": {},
   "source": [
    "프로그램 : 소스코드로 잘 짜여진 틀\n",
    "소스코드 : 컴퓨터와 개발자가 소통하는 문장들\n",
    "\n",
    "프로그래밍 언어\n",
    "1. 컴파일 언어\n",
    "2. 스크립트 언어 (인터프리터 언어)\n",
    "3. 블럭형 언어\n",
    "4. 교육용 언어\n",
    "\n",
    "인터프리터언어(스크립트 언어) : 한 줄 단위로 해석한다. 빈번한 수정이 있을 때 효과적이다. 컴파일 언어에 비해 속도가 느리다.\n",
    "HTML, javascript, SQL..."
   ]
  }
 ],
 "metadata": {
  "kernelspec": {
   "display_name": "Python 3",
   "language": "python",
   "name": "python3"
  },
  "language_info": {
   "codemirror_mode": {
    "name": "ipython",
    "version": 3
   },
   "file_extension": ".py",
   "mimetype": "text/x-python",
   "name": "python",
   "nbconvert_exporter": "python",
   "pygments_lexer": "ipython3",
   "version": "3.8.5"
  }
 },
 "nbformat": 4,
 "nbformat_minor": 4
}
