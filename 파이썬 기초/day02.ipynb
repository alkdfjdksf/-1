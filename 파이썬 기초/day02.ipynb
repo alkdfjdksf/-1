{
 "cells": [
  {
   "cell_type": "code",
   "execution_count": 11,
   "metadata": {},
   "outputs": [
    {
     "data": {
      "text/plain": [
       "'여러줄을 주석처리 하려면 큰따옴표 3개를 쓰면 된다.'"
      ]
     },
     "execution_count": 11,
     "metadata": {},
     "output_type": "execute_result"
    }
   ],
   "source": [
    "# 한줄 주석용 문자는 #이다.\n",
    "\n",
    "\"\"\"여러줄을 주석처리 하려면 큰따옴표 3개를 쓰면 된다.\"\"\""
   ]
  },
  {
   "cell_type": "markdown",
   "metadata": {},
   "source": [
    "콘솔 : 사용자와 운영체제가 소통한 결과를 나타내는 창을 말한다.\n",
    "\n",
    "변수는 저장공간이다.\n",
    "\n",
    "x = 0\n",
    "x : 저장공간의 이름 / = : 대입 연산자 (equal의 의미가 절대 아니다!) / 0 : 값(상수)\n",
    "! x라는 이름의 변수에 0이라는 값을 넣어라 !"
   ]
  }
 ],
 "metadata": {
  "kernelspec": {
   "display_name": "Python 3",
   "language": "python",
   "name": "python3"
  },
  "language_info": {
   "codemirror_mode": {
    "name": "ipython",
    "version": 3
   },
   "file_extension": ".py",
   "mimetype": "text/x-python",
   "name": "python",
   "nbconvert_exporter": "python",
   "pygments_lexer": "ipython3",
   "version": "3.8.5"
  }
 },
 "nbformat": 4,
 "nbformat_minor": 4
}
