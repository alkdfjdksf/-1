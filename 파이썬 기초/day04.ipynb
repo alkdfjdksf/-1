{
 "cells": [
  {
   "cell_type": "code",
   "execution_count": 21,
   "metadata": {},
   "outputs": [
    {
     "name": "stdout",
     "output_type": "stream",
     "text": [
      "자기소개\n",
      "이름 : 김김김\n",
      "나이 : \n"
     ]
    }
   ],
   "source": [
    "# 제어문자\n",
    "# 반드시 따옴표 안에서 사용한다\n",
    "# \\n : 줄바꿈, 개행문자 (new line)\n",
    "# \\t : 위 아래 줄 간격 맞춰 뜨기 (tab)\n",
    "# \\\\ : \\ 표현\n",
    "# \\\" : \" 표현\n",
    "# \\' : ' 표현\n",
    "\n",
    "print(\"자기소개\")\n",
    "print(\"이름 : \", end = '') # 기본적으로 end = '\\n'라고 설정되어 있어서 한칸 띄운다 그걸 이렇게 하면 띄우지 않는다.\n",
    "print(\"김김김\\n나이 : \")"
   ]
  },
  {
   "cell_type": "code",
   "execution_count": 22,
   "metadata": {
    "scrolled": true
   },
   "outputs": [
    {
     "name": "stdout",
     "output_type": "stream",
     "text": [
      "애완동물 이름 : 뽀삐★\n",
      "애완동물 나이 : 10살★\n",
      "애완동물 몸무게 : 10.5kg★\n",
      "애완동물 혈액형 : A형★"
     ]
    }
   ],
   "source": [
    "print(\"애완동물 이름 : 뽀삐★\\n애완동물 나이 : 10살\", end=\"★\\n\")\n",
    "print(\"애완동물 몸무게 : 10.5kg\", end=\"★\")\n",
    "print(\"\\n애완동물 혈액형 : A형\", end=\"★\")"
   ]
  },
  {
   "cell_type": "code",
   "execution_count": 23,
   "metadata": {
    "scrolled": true
   },
   "outputs": [
    {
     "name": "stdout",
     "output_type": "stream",
     "text": [
      "이름 : 한동석\n",
      "나이 : 10살\n",
      "키 : 120.888cm\n",
      "취미 : 피아노\n"
     ]
    }
   ],
   "source": [
    "name = \"한동석\"\n",
    "age = 10\n",
    "height = 120.888\n",
    "hobby = \"피아노\"\n",
    "\n",
    "print(\"이름 : \", end = '')\n",
    "print(name)\n",
    "print(\"나이 : \", end = '')\n",
    "print(age, end = '살\\n')\n",
    "print(\"키 : \", end = '')\n",
    "print(height, end = \"cm\\n\")\n",
    "print(\"취미 : \", end = '')\n",
    "print(hobby)"
   ]
  },
  {
   "cell_type": "code",
   "execution_count": 24,
   "metadata": {},
   "outputs": [
    {
     "name": "stdout",
     "output_type": "stream",
     "text": [
      "이름 : 한동석\n",
      "나이 : 10살\n",
      "이름 : 120.89cm\n",
      "나이 : 피아노\n"
     ]
    }
   ],
   "source": [
    "# 서식문자 (format)\n",
    "# 반드시 따옴표 안에서 작성한다.\n",
    "# %d : decimal 정수 (10진수)\n",
    "# %o : octal 정수 (8진수)\n",
    "# %x : hexadecimal 정수 (16진수)\n",
    "# %f : float 실수\n",
    "# %c : character 문자\n",
    "# %s : string 문자열\n",
    "name = \"한동석\"\n",
    "age = 10\n",
    "height = 120.888\n",
    "hobby = \"피아노\"\n",
    "\n",
    "print(\"이름 : %s\" %name)\n",
    "print(\"나이 : %d살\" %age)\n",
    "print(\"이름 : %.2fcm\" %height)\n",
    "print(\"나이 : %s\" %hobby)"
   ]
  }
 ],
 "metadata": {
  "kernelspec": {
   "display_name": "Python 3",
   "language": "python",
   "name": "python3"
  },
  "language_info": {
   "codemirror_mode": {
    "name": "ipython",
    "version": 3
   },
   "file_extension": ".py",
   "mimetype": "text/x-python",
   "name": "python",
   "nbconvert_exporter": "python",
   "pygments_lexer": "ipython3",
   "version": "3.8.5"
  }
 },
 "nbformat": 4,
 "nbformat_minor": 4
}
