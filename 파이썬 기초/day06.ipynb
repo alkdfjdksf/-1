{
 "cells": [
  {
   "cell_type": "code",
   "execution_count": 9,
   "metadata": {},
   "outputs": [
    {
     "name": "stdout",
     "output_type": "stream",
     "text": [
      "A\n",
      "195\n",
      "기존 비밀번호 : a1b2c3\n",
      "암호화된 비밀번호 : ͩƹͲǂͻǋ\n",
      "복호화된 비밀번호 : a1b2c3\n"
     ]
    }
   ],
   "source": [
    "# 암호화\n",
    "\n",
    "print(\"%c\" %65)\n",
    "\n",
    "# chr(정수) : 정수를 문자로\n",
    "# ord(문자) : 문자를 정수로\n",
    "\n",
    "print(ord('A') * 3)\n",
    "\n",
    "pw = \"a1b2c3\"\n",
    "en_pw = \"\"\n",
    "de_pw = \"\"\n",
    "for i in pw :\n",
    "    en_pw += chr(ord(i) * 9)\n",
    "\n",
    "print(\"기존 비밀번호 : %s\" %pw)\n",
    "print(\"암호화된 비밀번호 : {pw}\".format(pw=en_pw))\n",
    "\n",
    "for i in en_pw :\n",
    "    de_pw += chr(ord(i) // 9)\n",
    "    \n",
    "print(\"복호화된 비밀번호 : {pw2}\".format(pw2=de_pw))\n",
    "\n",
    "# 아스키코드를 통해서 암호화를 할 수 있다\n",
    "# 회원가입 시 사용자의 비밀번호 혹은 개인정보를 암호화할 때\n",
    "# 아스키 코드를 사용한다"
   ]
  },
  {
   "cell_type": "code",
   "execution_count": 13,
   "metadata": {},
   "outputs": [
    {
     "name": "stdout",
     "output_type": "stream",
     "text": [
      "이름 : 안뇽\n",
      "제 이름은 안뇽입니다.\n"
     ]
    }
   ],
   "source": [
    "# 입력 : 커서가 깜빡이고 있는 상태\n",
    "# input(\"출력할 메세지\")\n",
    "\n",
    "name = input(\"이름 : \")\n",
    "print(\"제 이름은 {}입니다.\".format(name))"
   ]
  }
 ],
 "metadata": {
  "kernelspec": {
   "display_name": "Python 3",
   "language": "python",
   "name": "python3"
  },
  "language_info": {
   "codemirror_mode": {
    "name": "ipython",
    "version": 3
   },
   "file_extension": ".py",
   "mimetype": "text/x-python",
   "name": "python",
   "nbconvert_exporter": "python",
   "pygments_lexer": "ipython3",
   "version": "3.8.5"
  }
 },
 "nbformat": 4,
 "nbformat_minor": 4
}
