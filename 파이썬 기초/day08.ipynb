{
 "cells": [
  {
   "cell_type": "code",
   "execution_count": 14,
   "metadata": {
    "scrolled": true
   },
   "outputs": [
    {
     "name": "stdout",
     "output_type": "stream",
     "text": [
      "결과값 : True\n",
      "결과값 : False\n",
      "결과값 : True\n"
     ]
    }
   ],
   "source": [
    "isTrue = (10 == 11)\n",
    "isTrue = (10 != 11)\n",
    "print(\"결과값 : {}\".format(isTrue))\n",
    "\n",
    "# 논리 연산자\n",
    "isTrue = 10 == 11 and 10 > 1\n",
    "print(\"결과값 : {}\".format(isTrue))\n",
    "\n",
    "isTrue = 10 == 11 or 10 > 1\n",
    "print(\"결과값 : {}\".format(isTrue))"
   ]
  },
  {
   "cell_type": "markdown",
   "metadata": {},
   "source": [
    "비트 : 0 또는 1\n",
    "\n",
    "10진수 : 0 ~ 9\n",
    "2진수 : 0, 1\n",
    "    \n",
    "1byte = 8bit\n",
    "\n",
    "비트 연산\n",
    "\n",
    "논리 연산자\n",
    "& AND : 두 비트가 모두 1이면 1\n",
    "| OR : 둘 중 하나라도 1이면 1\n",
    "^ XOR : 두 비트가 서로 다르면 1\n",
    "    \n",
    "단항 연산자\n",
    "~ NOT : 0을 1로, 1을 0으로 바꿔준다\n",
    "\n",
    "쉬프트 연산자 (day09 참고)"
   ]
  }
 ],
 "metadata": {
  "kernelspec": {
   "display_name": "Python 3",
   "language": "python",
   "name": "python3"
  },
  "language_info": {
   "codemirror_mode": {
    "name": "ipython",
    "version": 3
   },
   "file_extension": ".py",
   "mimetype": "text/x-python",
   "name": "python",
   "nbconvert_exporter": "python",
   "pygments_lexer": "ipython3",
   "version": "3.8.5"
  }
 },
 "nbformat": 4,
 "nbformat_minor": 4
}
