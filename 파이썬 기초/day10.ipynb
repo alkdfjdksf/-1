{
 "cells": [
  {
   "cell_type": "code",
   "execution_count": 8,
   "metadata": {
    "scrolled": true
   },
   "outputs": [
    {
     "name": "stdout",
     "output_type": "stream",
     "text": [
      "첫번째 정수 : 12\n",
      "두번째 정수 : 12\n",
      "더 큰 값 : 두 수가 같습니다\n"
     ]
    }
   ],
   "source": [
    "# 대소비교\n",
    "# 두 정수 입력받기\n",
    "n1Msg = \"첫번째 정수 : \"\n",
    "n2Msg = \"두번째 정수 : \"\n",
    "\n",
    "num1 = int(input(n1Msg)); num2 = int(input(n2Msg))\n",
    "\n",
    "# 삼항 연산자\n",
    "result = num1 if num1 > num2 else num2 if num1 < num2 else \"두 수가 같습니다\"\n",
    "\n",
    "print(\"더 큰 값 : {}\".format(result))"
   ]
  },
  {
   "cell_type": "code",
   "execution_count": 20,
   "metadata": {},
   "outputs": [
    {
     "name": "stdout",
     "output_type": "stream",
     "text": [
      "다음 중 프로그래밍 언어가 아닌 것은?\n",
      "(1) JAVA (2) 파이썬 (3) C언어 (4) 망둥어\n",
      "답 :5\n",
      "오답 ㅠㅠ\n"
     ]
    }
   ],
   "source": [
    "# 퀴즈 게임\n",
    "# 다음 중 프로그래밍 언어가 아닌 것은?\n",
    "# 1. JAVA 2. 파이썬 3.C언어 4. 망둥어\n",
    "\n",
    "qMsg = \"다음 중 프로그래밍 언어가 아닌 것은?\\n\"\n",
    "choiceMsg = \"(1) JAVA (2) 파이썬 (3) C언어 (4) 망둥어\\n\"\n",
    "ans = int(input(qMsg + choiceMsg + \"답 :\"))\n",
    "\n",
    "result = \"정답\" if ans == 4 else \"오답 ㅠㅠ\"\n",
    "\n",
    "print(result)"
   ]
  }
 ],
 "metadata": {
  "kernelspec": {
   "display_name": "Python 3",
   "language": "python",
   "name": "python3"
  },
  "language_info": {
   "codemirror_mode": {
    "name": "ipython",
    "version": 3
   },
   "file_extension": ".py",
   "mimetype": "text/x-python",
   "name": "python",
   "nbconvert_exporter": "python",
   "pygments_lexer": "ipython3",
   "version": "3.8.5"
  }
 },
 "nbformat": 4,
 "nbformat_minor": 4
}
