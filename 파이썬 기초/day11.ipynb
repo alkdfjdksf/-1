{
 "cells": [
  {
   "cell_type": "code",
   "execution_count": 12,
   "metadata": {},
   "outputs": [
    {
     "name": "stdout",
     "output_type": "stream",
     "text": [
      "당신의 혈액형은?\n",
      "(1) A형 (2) B형 (3) O형 (4) AB형\n",
      "1\n",
      "당신은 A형이군요!\n"
     ]
    }
   ],
   "source": [
    "qMsg = (\"당신의 혈액형은?\\n\" + \"(1) A형 (2) B형 (3) O형 (4) AB형\")\n",
    "\n",
    "choice = input(qMsg + \"\\n\")\n",
    "\n",
    "if choice == \"1\":\n",
    "    print(\"당신은 A형이군요!\")\n",
    "elif choice == \"2\":\n",
    "    print(\"당신은 B형이군요!\")\n",
    "elif choice == \"3\":\n",
    "    print(\"당신은 O형이군요!\")\n",
    "elif choice == \"4\":\n",
    "    print(\"당신은 AB형이군요!\")\n",
    "else:\n",
    "    print(\"잘못 입력하신 것 같아요 ㅠㅠ\")"
   ]
  }
 ],
 "metadata": {
  "kernelspec": {
   "display_name": "Python 3",
   "language": "python",
   "name": "python3"
  },
  "language_info": {
   "codemirror_mode": {
    "name": "ipython",
    "version": 3
   },
   "file_extension": ".py",
   "mimetype": "text/x-python",
   "name": "python",
   "nbconvert_exporter": "python",
   "pygments_lexer": "ipython3",
   "version": "3.8.5"
  }
 },
 "nbformat": 4,
 "nbformat_minor": 4
}
