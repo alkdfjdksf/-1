{
 "cells": [
  {
   "cell_type": "code",
   "execution_count": null,
   "metadata": {},
   "outputs": [
    {
     "name": "stdout",
     "output_type": "stream",
     "text": [
      "다음 중 프로그래밍 언어가 아닌 것은?\n",
      "(1) JAVA (2) 파이썬 (3) C언어 (4) 망둥어\n",
      "답 :232\n",
      "다시 시도해주세요\n"
     ]
    }
   ],
   "source": [
    "qMsg = \"다음 중 프로그래밍 언어가 아닌 것은?\\n\"\n",
    "choiceMsg = \"(1) JAVA (2) 파이썬 (3) C언어 (4) 망둥어\\n\"\n",
    "answer = 4\n",
    "result = \"\"\n",
    "\n",
    "while result != \"정답!\":\n",
    "    choice = int(input(qMsg + choiceMsg + \"답 :\"))\n",
    "    if choice == answer:\n",
    "        result = \"정답!\"\n",
    "    elif choice >= 1 and  choice <= 4:\n",
    "        result = \"오답\"\n",
    "    else:\n",
    "        result = \"다시 시도해주세요\"\n",
    "    print(result)"
   ]
  },
  {
   "cell_type": "code",
   "execution_count": null,
   "metadata": {},
   "outputs": [],
   "source": []
  }
 ],
 "metadata": {
  "kernelspec": {
   "display_name": "Python 3",
   "language": "python",
   "name": "python3"
  },
  "language_info": {
   "codemirror_mode": {
    "name": "ipython",
    "version": 3
   },
   "file_extension": ".py",
   "mimetype": "text/x-python",
   "name": "python",
   "nbconvert_exporter": "python",
   "pygments_lexer": "ipython3",
   "version": "3.8.5"
  }
 },
 "nbformat": 4,
 "nbformat_minor": 4
}
