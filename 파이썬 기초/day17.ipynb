{
 "cells": [
  {
   "cell_type": "markdown",
   "metadata": {},
   "source": [
    "컬렉션 - 데이터를 수집\n",
    "\n",
    "알고리즘 - 문제를 해결하기 위한 순서 or 절차\n",
    "\n",
    "자료구조 - 의미없는 데이터가 자료구조를 통과하는 순간 하나의 정보가 된다\n",
    "               데이터를 저장공간에 담는 순간 하나의 정보가 된다\n",
    "\n",
    "<list>\n",
    "\n",
    "1. 변수를 여러번 선언하지 않고 여러칸 list를 한번만 사용하기 위해서 사용\n",
    "변수를 선언하면 값이 한개만 담기고 이름도 반드시 붙여야 한다\n",
    "여러 변수를 선언하면 이름도 많아져서 관리하기 불편하다\n",
    "따라서 list는 이름 하나고 각 값을 인덱스로 접근하기 때문에\n",
    "값을 관리하기 훨씬 편하고 쉽다\n",
    "\n",
    "2. 규칙성이 없는 값에 규칙성을 부여하기 위해서"
   ]
  }
 ],
 "metadata": {
  "kernelspec": {
   "display_name": "Python 3",
   "language": "python",
   "name": "python3"
  },
  "language_info": {
   "codemirror_mode": {
    "name": "ipython",
    "version": 3
   },
   "file_extension": ".py",
   "mimetype": "text/x-python",
   "name": "python",
   "nbconvert_exporter": "python",
   "pygments_lexer": "ipython3",
   "version": "3.8.5"
  }
 },
 "nbformat": 4,
 "nbformat_minor": 4
}
