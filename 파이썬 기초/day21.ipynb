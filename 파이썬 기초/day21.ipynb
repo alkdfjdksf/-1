{
 "cells": [
  {
   "cell_type": "code",
   "execution_count": 1,
   "metadata": {},
   "outputs": [
    {
     "name": "stdout",
     "output_type": "stream",
     "text": [
      "2\n",
      "4\n",
      "6\n"
     ]
    }
   ],
   "source": [
    "#dict\n",
    "numDict = {\"even\" : [2, 4, 6], \"odd\" :[1, 3, 5]}\n",
    "for i in numDict[\"even\"]:\n",
    "    print(i)"
   ]
  },
  {
   "cell_type": "code",
   "execution_count": 6,
   "metadata": {},
   "outputs": [
    {
     "name": "stdout",
     "output_type": "stream",
     "text": [
      "2 4 6 \n",
      "1 3 5 \n"
     ]
    }
   ],
   "source": [
    "numListDict = {\"1학년\" : [[2, 4, 6], [1, 3, 5]]}\n",
    "for i in numListDict[\"1학년\"]:\n",
    "    for j in i:\n",
    "        print(j, end = \" \")\n",
    "    print()"
   ]
  },
  {
   "cell_type": "code",
   "execution_count": null,
   "metadata": {},
   "outputs": [
    {
     "name": "stdout",
     "output_type": "stream",
     "text": [
      "학생 성적 관리 프로그램\n",
      "1.추가\n",
      "2.수정\n",
      "3.삭제\n",
      "4.목록\n",
      "5.나가기\n",
      "1\n",
      "학생 이름 : 얌미\n",
      "다음과 같이 각 점수를 입력하세요\n",
      "예)국어,영어,수학2,3,4\n",
      "학생 성적 관리 프로그램\n",
      "1.추가\n",
      "2.수정\n",
      "3.삭제\n",
      "4.목록\n",
      "5.나가기\n",
      "1\n",
      "학생 이름 : 계\n",
      "다음과 같이 각 점수를 입력하세요\n",
      "예)국어,영어,수학4,4,4\n",
      "학생 성적 관리 프로그램\n",
      "1.추가\n",
      "2.수정\n",
      "3.삭제\n",
      "4.목록\n",
      "5.나가기\n",
      "1\n",
      "학생 이름 : 쓔쓔\n",
      "다음과 같이 각 점수를 입력하세요\n",
      "예)국어,영어,수학49, 59, 34\n",
      "학생 성적 관리 프로그램\n",
      "1.추가\n",
      "2.수정\n",
      "3.삭제\n",
      "4.목록\n",
      "5.나가기\n",
      "3\n",
      "삭제할 학생명 : 옐\n",
      "존재하지 않는 학생입니다.\n",
      "학생 성적 관리 프로그램\n",
      "1.추가\n",
      "2.수정\n",
      "3.삭제\n",
      "4.목록\n",
      "5.나가기\n",
      "2\n",
      "수정할 학생명 : 쓔쓔\n",
      "1.학생명\n",
      "2.점수\n",
      "2\n",
      "1.국어점수\n",
      "2.영어점수\n",
      "3.수학점수\n",
      "1\n",
      "새로운 점수 : 23\n",
      "학생 성적 관리 프로그램\n",
      "1.추가\n",
      "2.수정\n",
      "3.삭제\n",
      "4.목록\n",
      "5.나가기\n",
      "4\n",
      "[얌미]\n",
      "국어 : 2점\n",
      "영어 : 3점\n",
      "수학 : 4점\n",
      "[계]\n",
      "국어 : 4점\n",
      "영어 : 4점\n",
      "수학 : 4점\n",
      "[쓔쓔]\n",
      "국어 : 23점\n",
      "영어 :  59점\n",
      "수학 :  34점\n"
     ]
    }
   ],
   "source": [
    "#dict task 학생관리\n",
    "# 학생 이름과 학생 점수를 입력받고\n",
    "# 추가, 수정, 삭제 ,목록\n",
    "\n",
    "title = \"학생 성적 관리 프로그램\\n\"\n",
    "msg = \"1.추가\\n2.수정\\n3.삭제\\n4.목록\\n5.나가기\\n\"\n",
    "errMsg = \"다시 시도해주세요\"\n",
    "\n",
    "studentDict = {}\n",
    "subjectList = [\"국어\", \"영어\", \"수학\"]\n",
    "\n",
    "while True:\n",
    "    choice = int(input(title + msg))\n",
    "    # 추가\n",
    "    if choice == 1:\n",
    "        name = input(\"학생 이름 : \")\n",
    "        if name not in studentDict:\n",
    "            studentDict[name] = input(\"다음과 같이 각 점수를 입력하세요\\n예)국어,영어,수학\").split(\",\")\n",
    "        else:\n",
    "            print(\"이미 등록된 학생입니다.\")\n",
    "    #수정\n",
    "    elif choice == 2:\n",
    "        name = input(\"수정할 학생명 : \")\n",
    "        if name in studentDict:\n",
    "            choice = int(input(\"1.학생명\\n2.점수\\n\"))\n",
    "            if choice == 1:\n",
    "                new = input(\"새로운 학생명 : \")\n",
    "                #기존 학생을 삭제하기 전\n",
    "                #점수를 임시로 담아 놓는다.\n",
    "                scoreList = studentDict[name]\n",
    "                \n",
    "                # 기존 학생 삭제 후\n",
    "                # 새롭게 추가될 학생 추가(점수는 그대로)\n",
    "                del studentDict[name]\n",
    "                studentDict[new] = scoreList\n",
    "            elif choice == 2:\n",
    "                choice = int(input(\"1.국어점수\\n2.영어점수\\n3.수학점수\\n\"))\n",
    "                studentDict[name][choice-1] = int(input(\"새로운 점수 : \"))\n",
    "        else:\n",
    "            print(\"존재하지 않는 학생입니다.\")\n",
    "    #삭제\n",
    "    elif choice == 3:\n",
    "        name = input(\"삭제할 학생명 : \")\n",
    "        if name in studentDict:\n",
    "            del studentDict[name]\n",
    "        else:\n",
    "            print(\"존재하지 않는 학생입니다.\")\n",
    "    #목록\n",
    "    elif choice == 4:\n",
    "        for i in studentDict.keys():\n",
    "            print(\"[\" + i + \"]\")\n",
    "            cnt = 0\n",
    "            for j in studentDict[i]:\n",
    "                print(subjectList[cnt] + \" : \" + str(j) + \"점\")\n",
    "                cnt += 1\n",
    "    #나가기\n",
    "    elif choice == 5:\n",
    "        break\n",
    "    #그 외\n",
    "    else:\n",
    "        print(errMsg)"
   ]
  }
 ],
 "metadata": {
  "kernelspec": {
   "display_name": "Python 3",
   "language": "python",
   "name": "python3"
  },
  "language_info": {
   "codemirror_mode": {
    "name": "ipython",
    "version": 3
   },
   "file_extension": ".py",
   "mimetype": "text/x-python",
   "name": "python",
   "nbconvert_exporter": "python",
   "pygments_lexer": "ipython3",
   "version": "3.8.5"
  }
 },
 "nbformat": 4,
 "nbformat_minor": 4
}
