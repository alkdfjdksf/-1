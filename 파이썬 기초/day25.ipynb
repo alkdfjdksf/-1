{
 "cells": [
  {
   "cell_type": "code",
   "execution_count": null,
   "metadata": {},
   "outputs": [],
   "source": [
    "\"\"\"\n",
    "공통 요소가 모여 있는 곳\n",
    "\n",
    "1. 주어이다\n",
    "한국어 : 원숭이가 바나나를 먹는다\n",
    "영어 : Monkey eats banana.\n",
    "파이썬 : Monkey.eat(\"바나나\")\n",
    "           주어  동사  목적어\n",
    "클래스는 문장의 맨 앞에 등장하므로\n",
    "앞글자를 대문자로 작성한다.\n",
    "\n",
    "2. 타입이다\n",
    "공통요소가 있는 것들을 여러개 선언하면\n",
    "비효율적이기 때문에 클래스에 한번씩만\n",
    "선언하고 해당 필드를 가져다 쓴다.\n",
    "대신 해당 필드에 접근하기 위해서는\n",
    "그 클래스의 타입으로 선언되어야 한다.\n",
    "\n",
    "클래스 선언\n",
    "      class 클래스명:\n",
    "                필드(객체, 메소드)\n",
    "\n",
    "객체(instance variable)\n",
    "클래스는 추상적인 개념이고 이 추상적인 개념을\n",
    "실체화(구체화)시켜야지만 사용할 수 있다\n",
    "따라서 추상적인 개념을 실체화(구체화)시켜놓은 것을 객체라고 한다\n",
    "\n",
    "ex)\n",
    "[클래스] [객체]\n",
    "자동차   엄마차\n",
    "도형     세모\n",
    "\n",
    "객체화(instance)\n",
    "추상적인 개념을 구체화 시키는 작업\n",
    "객체명 = 클래스명()\n",
    "\n",
    "생성자\n",
    "클래스명()을 생성자라고 하며, 이름 뒤에소괄호가 있기 때문에\n",
    "메소드의 기능과 똑같다. 하지만 리턴이 없기 때문에 메소드라고\n",
    "부르지 않고 생성자라고 부른다.\n",
    "클래스에 있는 필드를 메모리에 할당해 주고 그 필드의 주소값을\n",
    "가지고 돌아와야 하기 때문에, 개발자가 직접 리턴값을 작성하면\n",
    "안된다.\n",
    "\n",
    "생성자의 역할\n",
    "    1.해당 필드를 메모리(RAM)에 할당하고 할당된 필드의 주소값을 가져온다.\n",
    "      \n",
    "    2.초기화\n",
    "\"\"\""
   ]
  }
 ],
 "metadata": {
  "kernelspec": {
   "display_name": "Python 3",
   "language": "python",
   "name": "python3"
  },
  "language_info": {
   "codemirror_mode": {
    "name": "ipython",
    "version": 3
   },
   "file_extension": ".py",
   "mimetype": "text/x-python",
   "name": "python",
   "nbconvert_exporter": "python",
   "pygments_lexer": "ipython3",
   "version": "3.8.5"
  }
 },
 "nbformat": 4,
 "nbformat_minor": 4
}
