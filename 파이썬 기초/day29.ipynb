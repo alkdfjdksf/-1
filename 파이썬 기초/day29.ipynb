{
 "cells": [
  {
   "cell_type": "code",
   "execution_count": 3,
   "metadata": {},
   "outputs": [
    {
     "name": "stdout",
     "output_type": "stream",
     "text": [
      "닉네임 : 바보\n",
      "비속어는 사용할 수 없습니다.\n"
     ]
    }
   ],
   "source": [
    "class NickNameError(Exception):\n",
    "    pass\n",
    "\n",
    "def checkNickName(name):\n",
    "    if name == \"바보\":\n",
    "        raise NickNameError\n",
    "        \n",
    "nickname = input(\"닉네임 : \")\n",
    "\n",
    "try:\n",
    "    checkNickName(nickname)\n",
    "    print(\"닉네임 생성 성공!\")\n",
    "except NickNameError:\n",
    "    print(\"비속어는 사용할 수 없습니다.\")"
   ]
  },
  {
   "cell_type": "code",
   "execution_count": 9,
   "metadata": {},
   "outputs": [
    {
     "name": "stdout",
     "output_type": "stream",
     "text": [
      "채팅[나가기:q] : 안녕하세요 바보\n",
      "1회 비속어를 사용하셨습니다.\n",
      "안녕하세요 **\n",
      "채팅[나가기:q] : 어허허허 똥개 어허허허\n",
      "2회 비속어를 사용하셨습니다.\n",
      "어허허허 ** 어허허허\n",
      "채팅[나가기:q] : q\n"
     ]
    }
   ],
   "source": [
    "# 외부에서 채팅 문자열을 받아와서 in으로 비속어 검사를 한다.\n",
    "# 비속어는 바보, 멍청이, 똥개다\n",
    "# 사용자 예외처리로 선언하여 만든다. 비속어가 없다면\n",
    "# 채팅 메세지를 출력한다.\n",
    "\n",
    "class BadWordError(Exception):\n",
    "    pass\n",
    "\n",
    "chat = \"\"\n",
    "\n",
    "def checkChatting(temp):\n",
    "    badWords = [\"바보\", \"멍청\", \"똥개\"]\n",
    "    for i in badWords:\n",
    "        if i in temp:\n",
    "            global chat\n",
    "            chat = temp.replace(i, \"**\")\n",
    "            raise BadWordError()\n",
    "            \n",
    "cnt = 0\n",
    "while True:\n",
    "    chat = input(\"채팅[나가기:q] : \")\n",
    "    if chat.lower() ==  'q':\n",
    "        break\n",
    "        \n",
    "    try:\n",
    "        checkChatting(chat)\n",
    "        print(chat)\n",
    "    except BadWordError:\n",
    "        cnt += 1\n",
    "        print(\"%d회 비속어를 사용하셨습니다.\" %cnt)\n",
    "        print(chat)"
   ]
  },
  {
   "cell_type": "code",
   "execution_count": null,
   "metadata": {},
   "outputs": [],
   "source": [
    "\"\"\"\n",
    "파일 입출력\n",
    "파일 객체 = open(\"경로\",\"목적\")\n",
    "\n",
    "목적\n",
    "-w: 해당 경로 내용 덮어쓰기 (기존 내용 삭제, 해당 경로에 파일이 없으면 생성)\n",
    "-a: 해당 경로 내용 추가하기 (기존 내용 유지, 해당 경로에 파일이 없으면 생성)\n",
    "-r: 해당 경로 내용 읽기 (해당 경로에 파일이 없으면 오류)\n",
    "\n",
    "출력하기\n",
    "   파일 객체.write(\"문자열\")\n",
    "입력하기\n",
    "   파일 객체.readlines()\n",
    "   \n",
    "close(): 버퍼를 비워주어야 파일에 적용된다.\n",
    "반드시 작업이 끝나면 파일 객체명.close()를 사용!\n",
    "\n",
    "\"\"\""
   ]
  },
  {
   "cell_type": "code",
   "execution_count": 19,
   "metadata": {},
   "outputs": [
    {
     "name": "stdout",
     "output_type": "stream",
     "text": [
      "한동석\n",
      "--- ----- ---\n",
      "한동석\n",
      "한동석\n",
      "--- ----- ---\n",
      "한동석\n"
     ]
    }
   ],
   "source": [
    "# 절대 경로 : 내 위치가 어디든 찾아갈 수 있는 경로\n",
    "# 상대 경로 : 내 위치에 따라 경로가 변경된다.\n",
    "# . : 현재 위치\n",
    "# .. : 이전 폴더\n",
    "name_file = open(\"names.txt\", 'w')\n",
    "name_file.write(\"한동석\\n\")\n",
    "name_file.close()\n",
    "\n",
    "name_file = open(\"names.txt\", 'r')\n",
    "for i in name_file.readlines():\n",
    "    print(i, end=\"\")\n",
    "    \n",
    "print(\"--- ----- ---\")\n",
    "    \n",
    "name_file = open(\"names.txt\", 'a')\n",
    "name_file.write(\"한동석\\n\")\n",
    "name_file.close()\n",
    "\n",
    "name_file = open(\"names.txt\", 'r')\n",
    "for i in name_file.readlines():\n",
    "    print(i, end=\"\")\n",
    "\n",
    "print(\"--- ----- ---\")    \n",
    "\n",
    "name_file = open(\"names.txt\", 'w')\n",
    "name_file.write(\"한동석\\n\")\n",
    "name_file.close()\n",
    "\n",
    "name_file = open(\"names.txt\", 'r')\n",
    "for i in name_file.readlines():\n",
    "    print(i, end=\"\")"
   ]
  }
 ],
 "metadata": {
  "kernelspec": {
   "display_name": "Python 3",
   "language": "python",
   "name": "python3"
  },
  "language_info": {
   "codemirror_mode": {
    "name": "ipython",
    "version": 3
   },
   "file_extension": ".py",
   "mimetype": "text/x-python",
   "name": "python",
   "nbconvert_exporter": "python",
   "pygments_lexer": "ipython3",
   "version": "3.8.5"
  }
 },
 "nbformat": 4,
 "nbformat_minor": 4
}
